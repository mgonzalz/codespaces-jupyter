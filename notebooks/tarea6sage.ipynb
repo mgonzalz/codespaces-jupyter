{
 "cells": [
  {
   "cell_type": "code",
   "execution_count": 4,
   "metadata": {},
   "outputs": [
    {
     "name": "stdout",
     "output_type": "stream",
     "text": [
      "Media de 100 nº aleatorios:  -6/25\n"
     ]
    }
   ],
   "source": [
    "import random\n",
    "n = []\n",
    "for i in range(100):\n",
    "    n.append(random.randint(-100,100))\n",
    "media = mean(n)\n",
    "print(\"Media de 100 nº aleatorios: \", media)"
   ]
  },
  {
   "cell_type": "code",
   "execution_count": 1,
   "metadata": {},
   "outputs": [
    {
     "name": "stdout",
     "output_type": "stream",
     "text": [
      "Media:  65.625 ; Moda:  [61, 73] ; Mediana:  63.50\n"
     ]
    }
   ],
   "source": [
    "#EJERCICIO 2 (media, mediana, moda)\n",
    "reset(\"media\")\n",
    "altura = [71, 73, 59, 62, 65, 61, 73, 61]\n",
    "media = n(mean(altura), digits = 5)\n",
    "moda = mode(altura)\n",
    "mediana =n(median(altura), digits = 4)\n",
    "print(\"Media: \", media, \"; Moda: \", moda, \"; Mediana: \", mediana)"
   ]
  },
  {
   "cell_type": "code",
   "execution_count": 2,
   "metadata": {},
   "outputs": [
    {
     "name": "stdout",
     "output_type": "stream",
     "text": [
      "Varianza:  33.982 ; Desviación típica:  5.8294\n"
     ]
    }
   ],
   "source": [
    "#EJERCICIO 3 (variación, desviación típica)\n",
    "varianza = n(variance(altura), digits = 5)\n",
    "desv = sqrt(varianza) #Se puede calcular haciendo la raiz de la varianza o con el comando std()\n",
    "print(\"Varianza: \", varianza, \"; Desviación típica: \", desv)"
   ]
  },
  {
   "cell_type": "code",
   "execution_count": 3,
   "metadata": {},
   "outputs": [
    {
     "name": "stdout",
     "output_type": "stream",
     "text": [
      "Rango:  14\n"
     ]
    }
   ],
   "source": [
    "#EJERCICIO 4 (rango)\n",
    "rango = max(altura) - min(altura)\n",
    "print(\"Rango: \", rango)"
   ]
  }
 ],
 "metadata": {
  "kernelspec": {
   "display_name": "SageMath 9.3",
   "language": "sage",
   "name": "sagemath"
  },
  "language_info": {
   "codemirror_mode": {
    "name": "ipython",
    "version": 3
   },
   "file_extension": ".py",
   "mimetype": "text/x-python",
   "name": "python",
   "nbconvert_exporter": "python",
   "pygments_lexer": "ipython3",
   "version": "3.7.10"
  }
 },
 "nbformat": 4,
 "nbformat_minor": 4
}
